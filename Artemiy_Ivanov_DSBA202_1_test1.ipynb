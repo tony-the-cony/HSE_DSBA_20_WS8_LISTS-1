{
 "cells": [
  {
   "cell_type": "raw",
   "metadata": {},
   "source": []
  },
  {
   "cell_type": "code",
   "execution_count": null,
   "metadata": {},
   "outputs": [],
   "source": [
    "#task 1\n",
    "\n",
    "sum = 1\n",
    "a = list(map(int, input().split()))\n",
    "\n",
    "for i in range(len(a)):\n",
    "    sum *= a[i]\n",
    "\n",
    "print(sum)"
   ]
  },
  {
   "cell_type": "code",
   "execution_count": null,
   "metadata": {},
   "outputs": [],
   "source": [
    "#task 2\n",
    "\n",
    "a = list(map(int, input().split()))\n",
    "b = list(map(int, input().split()))\n",
    "\n",
    "c = False\n",
    "for i in range(len(a)):\n",
    "    if not(a[i] in b):\n",
    "        c = True\n",
    "\n",
    "if c:\n",
    "    print('NO')\n",
    "else:\n",
    "    print('YES')"
   ]
  },
  {
   "cell_type": "code",
   "execution_count": 23,
   "metadata": {},
   "outputs": [
    {
     "name": "stdout",
     "output_type": "stream",
     "text": [
      "w e r t y u i\n",
      "3\n",
      "w e r\n",
      "t y u\n",
      "i\n"
     ]
    }
   ],
   "source": [
    "#task 3\n",
    "\n",
    "a = list(map( str, input().split()))\n",
    "b = int(input())\n",
    "ans = []\n",
    "\n",
    "for i in range(len(a) // b + 1):\n",
    "    for j in range(min(b, len(a))):\n",
    "        ans.append(a[0])\n",
    "        a.pop(0)\n",
    "    print(*ans)\n",
    "    ans=[]"
   ]
  },
  {
   "cell_type": "code",
   "execution_count": 27,
   "metadata": {},
   "outputs": [
    {
     "name": "stdout",
     "output_type": "stream",
     "text": [
      "10 20 40 10 10 36 20\n",
      "10 20 40 36\n"
     ]
    }
   ],
   "source": [
    "#task 4\n",
    "\n",
    "a = list(map( str, input().split()))\n",
    "memory = []\n",
    "\n",
    "for i in range(len(a)):\n",
    "    if not a[i] in memory:\n",
    "        memory.append(a[i])\n",
    "\n",
    "print(*memory)"
   ]
  },
  {
   "cell_type": "code",
   "execution_count": 32,
   "metadata": {},
   "outputs": [
    {
     "name": "stdout",
     "output_type": "stream",
     "text": [
      "[(10, 20, 100), (40, 50, 100), (70, 80, 100)]\n"
     ]
    }
   ],
   "source": [
    "#task 6\n",
    "\n",
    "intput =  [(10, 20, 40), (40, 50, 60), (70, 80, 90)]\n",
    "output = []\n",
    "\n",
    "for i in range(len(intput)):\n",
    "    a = list(intput[i])\n",
    "    a[-1] = 100\n",
    "    output.append(tuple(a))\n",
    "\n",
    "print(output)"
   ]
  },
  {
   "cell_type": "code",
   "execution_count": 33,
   "metadata": {},
   "outputs": [
    {
     "name": "stdout",
     "output_type": "stream",
     "text": [
      "[('',), ('a', 'b'), ('a', 'b', 'c'), 'd']\n"
     ]
    }
   ],
   "source": [
    "#task 7\n",
    "\n",
    "n = [(), (), ('',), ('a', 'b'), ('a', 'b', 'c'), ('d')]\n",
    "m = []\n",
    "\n",
    "for i in range(len(n)):\n",
    "    if n[i] != ():\n",
    "        m.append(n[i])\n",
    "        \n",
    "print(m)"
   ]
  },
  {
   "cell_type": "code",
   "execution_count": null,
   "metadata": {},
   "outputs": [],
   "source": [
    "#task 5\n",
    "\n",
    "intput = list(map(int, input().split()))\n",
    "ans = [[]]\n",
    "\n",
    "for i in range(len(intput)):\n",
    "    initial = list(ans)\n",
    "    for j in range(len(ans)):\n",
    "        ans[j] = ans[j] + [intput[i]]\n",
    "    ans = initial + ans\n",
    "\n",
    "print(*ans)"
   ]
  }
 ],
 "metadata": {
  "kernelspec": {
   "display_name": "Python 3",
   "language": "python",
   "name": "python3"
  },
  "language_info": {
   "codemirror_mode": {
    "name": "ipython",
    "version": 3
   },
   "file_extension": ".py",
   "mimetype": "text/x-python",
   "name": "python",
   "nbconvert_exporter": "python",
   "pygments_lexer": "ipython3",
   "version": "3.8.3"
  }
 },
 "nbformat": 4,
 "nbformat_minor": 4
}
